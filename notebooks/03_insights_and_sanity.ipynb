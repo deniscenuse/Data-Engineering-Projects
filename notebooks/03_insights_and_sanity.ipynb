{
 "cells": [
  {
   "cell_type": "markdown",
   "metadata": {},
   "source": "# 03 \u2014 Insights and Predictive Sanity Check\n\n**Objective.** This notebook reproduces the insight queries and summarizes a predictive sanity check using BigQuery ML (BQML).\n\n**Tables and Models.**\n- Curated data: `PROJECT_ID.DATASET.curated_usage`\n- BQML model: `PROJECT_ID.DATASET.lusage_linreg`"
  },
  {
   "cell_type": "code",
   "metadata": {},
   "execution_count": null,
   "outputs": [],
   "source": "# Configuration\nPROJECT_ID = \"data-engineering-ecometricx\"\nDATASET = \"energy_analytics\"\nLOCATION = \"EU\"\n\n# !pip -q install --upgrade pandas pandas-gbq google-cloud-bigquery\n\nimport pandas as pd\nfrom pandas_gbq import read_gbq\nimport matplotlib.pyplot as plt\n\nCUR = f\"`{PROJECT_ID}.energy_analytics.curated_usage`\".format(PROJECT_ID=PROJECT_ID)\nSTG = f\"`{PROJECT_ID}.energy_analytics.stg_usage`\".format(PROJECT_ID=PROJECT_ID)\nMDL = f\"`{PROJECT_ID}.energy_analytics.lusage_linreg`\".format(PROJECT_ID=PROJECT_ID)"
  },
  {
   "cell_type": "markdown",
   "metadata": {},
   "source": "## 1. Pre versus post summary"
  },
  {
   "cell_type": "code",
   "metadata": {},
   "execution_count": null,
   "outputs": [],
   "source": "q = (\n    \"WITH pre AS ( \"\n    \"SELECT 'pre' AS stage, \"\n    \"APPROX_QUANTILES(lusage, 100)[OFFSET(50)] AS median, \"\n    \"AVG(lusage) AS avg, COUNT(*) AS n, COUNTIF(lusage IS NULL) AS miss \"\n    f\"FROM {STG} \"\n    \"), post AS ( \"\n    \"SELECT 'post' AS stage, \"\n    \"APPROX_QUANTILES(lusage, 100)[OFFSET(50)] AS median, \"\n    \"AVG(lusage) AS avg, COUNT(*) AS n, COUNTIF(was_imputed) AS imputed_n \"\n    f\"FROM {CUR} \"\n    \") \"\n    \"SELECT * FROM pre UNION ALL SELECT * FROM post\"\n)\nprepost = read_gbq(q, project_id=PROJECT_ID, location=LOCATION)\nprepost"
  },
  {
   "cell_type": "markdown",
   "metadata": {},
   "source": "## 2. Monthly averages (post-curated)"
  },
  {
   "cell_type": "code",
   "metadata": {},
   "execution_count": null,
   "outputs": [],
   "source": "q = f\"SELECT month, AVG(lusage) AS avg_lusage, COUNT(*) n FROM {CUR} GROUP BY month ORDER BY month\"\nseason = read_gbq(q, project_id=PROJECT_ID, location=LOCATION)\nplt.figure()\nplt.plot(season['month'], season['avg_lusage'], marker='o')\nplt.title('Average log usage by month (curated)')\nplt.xlabel('month'); plt.ylabel('average lusage')\nplt.xticks([4,5,6,7,8])\nplt.show()\nseason"
  },
  {
   "cell_type": "markdown",
   "metadata": {},
   "source": "## 3. Lag correlations (post-curated)"
  },
  {
   "cell_type": "code",
   "metadata": {},
   "execution_count": null,
   "outputs": [],
   "source": "q = f\"SELECT CORR(lusage,lusage1) AS corr_l1, CORR(lusage,lusage2) AS corr_l2, CORR(lusage,lusage3) AS corr_l3 FROM {CUR}\"\ncor = read_gbq(q, project_id=PROJECT_ID, location=LOCATION)\ncor"
  },
  {
   "cell_type": "markdown",
   "metadata": {},
   "source": "## 4. Predictive sanity check (BQML evaluation)"
  },
  {
   "cell_type": "code",
   "metadata": {},
   "execution_count": null,
   "outputs": [],
   "source": "try:\n    eval_df = read_gbq(f\"SELECT * FROM ML.EVALUATE(MODEL {MDL})\", project_id=PROJECT_ID, location=LOCATION)\n    eval_df\n    plt.figure()\n    plt.bar(['MAE','MedAE'], [float(eval_df['mean_absolute_error'][0]), float(eval_df['median_absolute_error'][0])])\n    plt.title('Model error summary (BQML)')\n    plt.ylabel('error (log kWh)')\n    plt.show()\nexcept Exception as e:\n    print(\"Model evaluation not available or query failed:\", e)"
  },
  {
   "cell_type": "markdown",
   "metadata": {},
   "source": "## 5. Interpretation and limitations\n\n- The curated series replicates the staging distribution because `lusage` contained few or no missing values; baseline imputation had minimal effect.\n- Lag correlations are strong, consistent with persistence in household electricity usage.\n- The BQML linear regression may exhibit overfitting without additional regularization and higher-quality exogenous features (e.g., weather indices beyond `mozip`). Out-of-time validation is recommended."
  }
 ],
 "metadata": {
  "kernelspec": {
   "display_name": "Python 3",
   "language": "python",
   "name": "python3"
  },
  "language_info": {
   "name": "python",
   "version": "3.10"
  }
 },
 "nbformat": 4,
 "nbformat_minor": 5
}