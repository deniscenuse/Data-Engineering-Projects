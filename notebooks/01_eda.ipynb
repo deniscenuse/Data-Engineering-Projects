{
 "cells": [
  {
   "cell_type": "markdown",
   "metadata": {},
   "source": "# 01 \u2014 Exploratory Data Analysis\n\n**Objective.** This notebook provides an initial examination of the household electricity dataset in the staging table. We document basic distributions, seasonality across months, and correlations with lagged usage. The analysis serves to motivate later imputation and modeling choices.\n\n**Tables.**\n- Staging: `PROJECT_ID.DATASET.stg_usage`\n\n**Notes.**\n- `lusage` denotes the natural logarithm of monthly kWh.\n- The study window covers months 4\u20138 (April\u2013August) in 2010\u20132011."
  },
  {
   "cell_type": "code",
   "metadata": {},
   "execution_count": null,
   "outputs": [],
   "source": "# Configuration\nPROJECT_ID = \"data-engineering-ecometricx\"\nDATASET = \"energy_analytics\"\nLOCATION = \"EU\"\n\n# If running locally/Colab, uncomment the next line to install requirements.\n# !pip -q install --upgrade pandas pandas-gbq google-cloud-bigquery\n\nimport pandas as pd\nfrom pandas_gbq import read_gbq\nimport matplotlib.pyplot as plt\n\nSTG = f\"`{PROJECT_ID}.energy_analytics.stg_usage`\".format(PROJECT_ID=PROJECT_ID)"
  },
  {
   "cell_type": "markdown",
   "metadata": {},
   "source": "## 1. Row counts and missingness"
  },
  {
   "cell_type": "code",
   "metadata": {},
   "execution_count": null,
   "outputs": [],
   "source": "q = (\n    \"SELECT COUNT(*) AS n_rows, \"\n    \"COUNTIF(lusage IS NULL) AS miss_lusage, \"\n    \"COUNTIF(size_sqft IS NULL) AS miss_size, \"\n    \"COUNTIF(children IS NULL) AS miss_children \"\n    f\"FROM {STG}\"\n)\nsummary = read_gbq(q, project_id=PROJECT_ID, location=LOCATION)\nsummary"
  },
  {
   "cell_type": "markdown",
   "metadata": {},
   "source": "## 2. Sample extraction for plotting"
  },
  {
   "cell_type": "code",
   "metadata": {},
   "execution_count": null,
   "outputs": [],
   "source": "q = f\"SELECT * FROM {STG} LIMIT 100000\"\ndf = read_gbq(q, project_id=PROJECT_ID, location=LOCATION)\ndf.shape"
  },
  {
   "cell_type": "markdown",
   "metadata": {},
   "source": "## 3. Distribution of log usage (`lusage`)"
  },
  {
   "cell_type": "code",
   "metadata": {},
   "execution_count": null,
   "outputs": [],
   "source": "plt.figure()\ndf['lusage'].dropna().hist(bins=50)\nplt.title('Histogram of log monthly kWh (lusage)')\nplt.xlabel('lusage')\nplt.ylabel('count')\nplt.show()"
  },
  {
   "cell_type": "markdown",
   "metadata": {},
   "source": "## 4. Seasonal pattern by month"
  },
  {
   "cell_type": "code",
   "metadata": {},
   "execution_count": null,
   "outputs": [],
   "source": "month_avg = df.groupby('month', as_index=False)['lusage'].mean()\nplt.figure()\nplt.plot(month_avg['month'], month_avg['lusage'], marker='o')\nplt.title('Average log usage by month')\nplt.xlabel('month')\nplt.ylabel('average lusage')\nplt.xticks([4,5,6,7,8])\nplt.show()"
  },
  {
   "cell_type": "markdown",
   "metadata": {},
   "source": "## 5. Relationship between contemporaneous usage and the first lag"
  },
  {
   "cell_type": "code",
   "metadata": {},
   "execution_count": null,
   "outputs": [],
   "source": "sample = df.dropna(subset=['lusage','lusage1'])\nn = min(20000, len(sample))\nsample = sample.sample(n=n, random_state=42) if n>0 else sample\n\nplt.figure()\nplt.scatter(sample['lusage1'], sample['lusage'], s=3, alpha=0.3)\nplt.title('Scatter: lusage versus lusage1')\nplt.xlabel('lusage1 (t-1)')\nplt.ylabel('lusage (t)')\nplt.show()"
  },
  {
   "cell_type": "markdown",
   "metadata": {},
   "source": "## 6. Brief interpretation\n\n- The histogram of `lusage` indicates a right-skewed but compact distribution, consistent with log-kWh.\n- The monthly profile (April\u2192August) exhibits the expected summer increase in electricity usage.\n- The scatter of `lusage` on `lusage1` shows strong persistence across adjacent months, motivating the use of lagged features in modeling."
  }
 ],
 "metadata": {
  "kernelspec": {
   "display_name": "Python 3",
   "language": "python",
   "name": "python3"
  },
  "language_info": {
   "name": "python",
   "version": "3.10"
  }
 },
 "nbformat": 4,
 "nbformat_minor": 5
}