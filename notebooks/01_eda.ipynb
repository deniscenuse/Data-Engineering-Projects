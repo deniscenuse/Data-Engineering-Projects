{
 "cells": [
  {
   "cell_type": "markdown",
   "id": "17d31331",
   "metadata": {},
   "source": [
    "# 01 — Exploratory Data Analysis\n",
    "\n",
    "**Objective.** This notebook provides an initial examination of the household electricity dataset in the staging table. We document basic distributions, seasonality across months, and correlations with lagged usage. The analysis serves to motivate later imputation and modeling choices.\n",
    "\n",
    "**Tables.**\n",
    "- Staging: `PROJECT_ID.DATASET.stg_usage`\n",
    "\n",
    "**Notes.**\n",
    "- `lusage` denotes the natural logarithm of monthly kWh.\n",
    "- The study window covers months 4–8 (April–August) in 2010–2011."
   ]
  },
  {
   "cell_type": "code",
   "execution_count": null,
   "id": "d7c8825a",
   "metadata": {},
   "outputs": [],
   "source": [
    "# Configuration\n",
    "PROJECT_ID = \"data-engineering-ecometricx\"\n",
    "DATASET = \"energy_analytics\"\n",
    "LOCATION = \"EU\"\n",
    "\n",
    "# If running locally/Colab, uncomment the next line to install requirements.\n",
    "# !pip -q install --upgrade pandas pandas-gbq google-cloud-bigquery\n",
    "\n",
    "import pandas as pd\n",
    "from pandas_gbq import read_gbq\n",
    "import matplotlib.pyplot as plt\n",
    "\n",
    "STG = f\"`{PROJECT_ID}.energy_analytics.stg_usage`\".format(PROJECT_ID=PROJECT_ID)"
   ]
  },
  {
   "cell_type": "markdown",
   "id": "bd88fe54",
   "metadata": {},
   "source": [
    "## 1. Row counts and missingness"
   ]
  },
  {
   "cell_type": "code",
   "execution_count": null,
   "id": "8effe883",
   "metadata": {},
   "outputs": [],
   "source": [
    "q = (\n",
    "    \"SELECT COUNT(*) AS n_rows, \"\n",
    "    \"COUNTIF(lusage IS NULL) AS miss_lusage, \"\n",
    "    \"COUNTIF(size_sqft IS NULL) AS miss_size, \"\n",
    "    \"COUNTIF(children IS NULL) AS miss_children \"\n",
    "    f\"FROM {STG}\"\n",
    ")\n",
    "summary = read_gbq(q, project_id=PROJECT_ID, location=LOCATION)\n",
    "summary"
   ]
  },
  {
   "cell_type": "markdown",
   "id": "ed8e5525",
   "metadata": {},
   "source": [
    "## 2. Sample extraction for plotting"
   ]
  },
  {
   "cell_type": "code",
   "execution_count": null,
   "id": "bd6ee2f6",
   "metadata": {},
   "outputs": [],
   "source": [
    "q = f\"SELECT * FROM {STG} LIMIT 100000\"\n",
    "df = read_gbq(q, project_id=PROJECT_ID, location=LOCATION)\n",
    "df.shape"
   ]
  },
  {
   "cell_type": "markdown",
   "id": "87c9dfcc",
   "metadata": {},
   "source": [
    "## 3. Distribution of log usage (`lusage`)"
   ]
  },
  {
   "cell_type": "code",
   "execution_count": null,
   "id": "fe472eae",
   "metadata": {},
   "outputs": [],
   "source": [
    "plt.figure()\n",
    "df['lusage'].dropna().hist(bins=50)\n",
    "plt.title('Histogram of log monthly kWh (lusage)')\n",
    "plt.xlabel('lusage')\n",
    "plt.ylabel('count')\n",
    "plt.show()"
   ]
  },
  {
   "cell_type": "markdown",
   "id": "b14cdeac",
   "metadata": {},
   "source": [
    "## 4. Seasonal pattern by month"
   ]
  },
  {
   "cell_type": "code",
   "execution_count": null,
   "id": "456b8861",
   "metadata": {},
   "outputs": [],
   "source": [
    "month_avg = df.groupby('month', as_index=False)['lusage'].mean()\n",
    "plt.figure()\n",
    "plt.plot(month_avg['month'], month_avg['lusage'], marker='o')\n",
    "plt.title('Average log usage by month')\n",
    "plt.xlabel('month')\n",
    "plt.ylabel('average lusage')\n",
    "plt.xticks([4,5,6,7,8])\n",
    "plt.show()"
   ]
  },
  {
   "cell_type": "markdown",
   "id": "474cf7b0",
   "metadata": {},
   "source": [
    "## 5. Relationship between contemporaneous usage and the first lag"
   ]
  },
  {
   "cell_type": "code",
   "execution_count": null,
   "id": "b5492d1d",
   "metadata": {},
   "outputs": [],
   "source": [
    "sample = df.dropna(subset=['lusage','lusage1'])\n",
    "n = min(20000, len(sample))\n",
    "sample = sample.sample(n=n, random_state=42) if n>0 else sample\n",
    "\n",
    "plt.figure()\n",
    "plt.scatter(sample['lusage1'], sample['lusage'], s=3, alpha=0.3)\n",
    "plt.title('Scatter: lusage versus lusage1')\n",
    "plt.xlabel('lusage1 (t-1)')\n",
    "plt.ylabel('lusage (t)')\n",
    "plt.show()"
   ]
  },
  {
   "cell_type": "markdown",
   "id": "d938a758",
   "metadata": {},
   "source": [
    "## 6. Brief interpretation\n",
    "\n",
    "- The histogram of `lusage` indicates a right-skewed but compact distribution, consistent with log-kWh.\n",
    "- The monthly profile (April→August) exhibits the expected summer increase in electricity usage.\n",
    "- The scatter of `lusage` on `lusage1` shows strong persistence across adjacent months, motivating the use of lagged features in modeling."
   ]
  }
 ],
 "metadata": {
  "kernelspec": {
   "display_name": "Python 3",
   "language": "python",
   "name": "python3"
  },
  "language_info": {
   "name": "python",
   "version": "3.10"
  }
 },
 "nbformat": 4,
 "nbformat_minor": 5
}
