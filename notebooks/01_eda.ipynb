{
 "cells": [
  {
   "cell_type": "markdown",
   "id": "30a81f63",
   "metadata": {},
   "source": [
    "# 01 — Exploratory Data Analysis (EDA)\n",
    "\n",
    "This notebook explores the **household electricity consumption** dataset.\n",
    "\n",
    "**Notes**  \n",
    "- Usage is derived from billing records.  \n",
    "- Demographics are from a third-party aggregator (watch for bias/missingness).\n",
    "\n",
    "We'll inspect schema, missingness, distributions, seasonality (Apr–Aug), and proxies like `mozip`."
   ]
  },
  {
   "cell_type": "code",
   "execution_count": null,
   "id": "eef9e40e",
   "metadata": {},
   "outputs": [],
   "source": [
    "import pandas as pd\n",
    "import numpy as np\n",
    "import matplotlib.pyplot as plt\n",
    "\n",
    "# If reading locally; else use BigQuery connector in Colab or pandas-gbq\n",
    "csv_path = \"../data/data_test.csv\"  # update if needed\n",
    "df = pd.read_csv(csv_path)\n",
    "\n",
    "print(df.shape)\n",
    "df.head()"
   ]
  },
  {
   "cell_type": "code",
   "execution_count": null,
   "id": "8d90422c",
   "metadata": {},
   "outputs": [],
   "source": [
    "# Basic missingness report\n",
    "miss = df.isna().mean().sort_values(ascending=False)\n",
    "miss.to_frame(\"missing_rate\").head(15)"
   ]
  },
  {
   "cell_type": "code",
   "execution_count": null,
   "id": "0e5dabe1",
   "metadata": {},
   "outputs": [],
   "source": [
    "# Distribution of lusage\n",
    "plt.figure()\n",
    "df['lusage'].dropna().hist(bins=40)\n",
    "plt.title(\"Distribution of log(kWh) monthly usage\")\n",
    "plt.xlabel(\"lusage (log kWh)\")\n",
    "plt.ylabel(\"count\")\n",
    "plt.show()"
   ]
  },
  {
   "cell_type": "code",
   "execution_count": null,
   "id": "1c228ad5",
   "metadata": {},
   "outputs": [],
   "source": [
    "# Seasonality by month and year\n",
    "pivot = df.pivot_table(index=\"month\", columns=\"year\", values=\"lusage\", aggfunc=\"mean\")\n",
    "pivot"
   ]
  },
  {
   "cell_type": "code",
   "execution_count": null,
   "id": "b2ec50a2",
   "metadata": {},
   "outputs": [],
   "source": [
    "# Correlations with lags\n",
    "cols = ['lusage','lusage1','lusage2','lusage3','lusage4','lusage5','lusage6']\n",
    "corr = df[cols].corr()\n",
    "corr"
   ]
  }
 ],
 "metadata": {},
 "nbformat": 4,
 "nbformat_minor": 5
}
